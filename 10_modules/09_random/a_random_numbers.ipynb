{
 "cells": [
  {
   "cell_type": "markdown",
   "metadata": {},
   "source": [
    "# random module\n",
    "\n",
    "    Python random module, uses pseudo-random generator (PRNG)\n",
    "    called the Mersenne Twister.\n",
    "\n",
    "    NOTE: random module is good enough for many purposes, including simulations,\n",
    "    numerical analysis, and games, but it's definitely not good enough for\n",
    "    cryptographic use.\n",
    "    \n",
    "    In Python3, 'secret' module is used for cryptographic purpose.\n",
    "\n"
   ]
  },
  {
   "cell_type": "code",
   "execution_count": 8,
   "metadata": {},
   "outputs": [],
   "source": [
    "import random"
   ]
  },
  {
   "cell_type": "code",
   "execution_count": 9,
   "metadata": {},
   "outputs": [
    {
     "data": {
      "text/plain": [
       "['BPF',\n",
       " 'LOG4',\n",
       " 'NV_MAGICCONST',\n",
       " 'RECIP_BPF',\n",
       " 'Random',\n",
       " 'SG_MAGICCONST',\n",
       " 'SystemRandom',\n",
       " 'TWOPI',\n",
       " '_ONE',\n",
       " '_Sequence',\n",
       " '__all__',\n",
       " '__builtins__',\n",
       " '__cached__',\n",
       " '__doc__',\n",
       " '__file__',\n",
       " '__loader__',\n",
       " '__name__',\n",
       " '__package__',\n",
       " '__spec__',\n",
       " '_accumulate',\n",
       " '_acos',\n",
       " '_bisect',\n",
       " '_ceil',\n",
       " '_cos',\n",
       " '_e',\n",
       " '_exp',\n",
       " '_fabs',\n",
       " '_floor',\n",
       " '_index',\n",
       " '_inst',\n",
       " '_isfinite',\n",
       " '_lgamma',\n",
       " '_log',\n",
       " '_log2',\n",
       " '_os',\n",
       " '_pi',\n",
       " '_random',\n",
       " '_repeat',\n",
       " '_sha512',\n",
       " '_sin',\n",
       " '_sqrt',\n",
       " '_test',\n",
       " '_test_generator',\n",
       " '_urandom',\n",
       " '_warn',\n",
       " 'betavariate',\n",
       " 'binomialvariate',\n",
       " 'choice',\n",
       " 'choices',\n",
       " 'expovariate',\n",
       " 'gammavariate',\n",
       " 'gauss',\n",
       " 'getrandbits',\n",
       " 'getstate',\n",
       " 'lognormvariate',\n",
       " 'normalvariate',\n",
       " 'paretovariate',\n",
       " 'randbytes',\n",
       " 'randint',\n",
       " 'random',\n",
       " 'randrange',\n",
       " 'sample',\n",
       " 'seed',\n",
       " 'setstate',\n",
       " 'shuffle',\n",
       " 'triangular',\n",
       " 'uniform',\n",
       " 'vonmisesvariate',\n",
       " 'weibullvariate']"
      ]
     },
     "execution_count": 9,
     "metadata": {},
     "output_type": "execute_result"
    }
   ],
   "source": [
    "dir(random)"
   ]
  },
  {
   "cell_type": "code",
   "execution_count": 10,
   "metadata": {},
   "outputs": [
    {
     "name": "stdout",
     "output_type": "stream",
     "text": [
      "random.random()      : 0.6498048563148345\n"
     ]
    }
   ],
   "source": [
    "# Generate a pseudo-random number between 0 and 1.\n",
    "print(\"random.random()      :\", random.random())"
   ]
  },
  {
   "cell_type": "code",
   "execution_count": 11,
   "metadata": {},
   "outputs": [
    {
     "name": "stdout",
     "output_type": "stream",
     "text": [
      "random.random() * 100: 59.870870872490265\n",
      "random.random() * 100: 83.82240759133391\n"
     ]
    }
   ],
   "source": [
    "# Generate a large pseudo-random number\n",
    "print(\"random.random() * 100:\", random.random() * 100)\n",
    "print(\"random.random() * 100:\", random.random() * 100)"
   ]
  },
  {
   "cell_type": "code",
   "execution_count": 12,
   "metadata": {},
   "outputs": [],
   "source": [
    "# if we set the seed, we guarantee that we will get the same answer\n",
    "random.seed(18485)\n",
    "# NOTE: only supported seed types are: None,int, float, str, bytes, and bytearray."
   ]
  },
  {
   "cell_type": "code",
   "execution_count": 15,
   "metadata": {},
   "outputs": [
    {
     "name": "stdout",
     "output_type": "stream",
     "text": [
      "0.9664535356921388\n",
      "0.4407325991753527\n",
      "0.007491470058587191\n"
     ]
    }
   ],
   "source": [
    "print(random.random())  # should give 0.6797936184081204\n",
    "print(random.random())  # should give 0.9122712611873796\n",
    "print(random.random())  # should give 0.12926723301605425"
   ]
  },
  {
   "cell_type": "code",
   "execution_count": 17,
   "metadata": {},
   "outputs": [
    {
     "name": "stdout",
     "output_type": "stream",
     "text": [
      "[0.7725766895236029, 0.850635131875668, 0.11481894112205038]\n"
     ]
    }
   ],
   "source": [
    "random.seed(\"slartibartfast\")\n",
    "s = [random.random() for i in range(3)]\n",
    "print(s)  # should give [0.7725766895236029, 0.850635131875668, 0.11481894112205038]"
   ]
  },
  {
   "cell_type": "code",
   "execution_count": 20,
   "metadata": {},
   "outputs": [
    {
     "name": "stdout",
     "output_type": "stream",
     "text": [
      "os.urandom(1024) b'\\xac\\xc8\\x17\\xdd\\xd1y\\t7\\xec\\x7f\\x7f\\x96\\x1e\\xff\\xdbvV\\x83\\x87\\xe5~\\xf9\\x9a\\xd6%\\xbe-nbG\\xaaJA\\x8a\\xb1\\xdd\\x87\\xdb\\'Knx\\xf4\\xf4T\\xd4.\\xe1\\xa0u\\x06\\xd53\\xe8bVa(\\xf0\\x9a\\x041zz\\x1dp\\xed\\x94\\xe8\\xc3+\\xd5fk\\x1f\\\\\\xba1\\x83 G\\xc2\\x1e\\xe3[\\xc8=\\xf5\\x11\\x96\\x8c\\x91\\xe6XG\\xd6\\xff\\x9fb\\x17\\xd0\\x91\\xe2\\x04e\\xc3\\xf2<)\\x15\\x8f\\xd3\\xde\\xcdw\\x8a \\x18\\x0b\\x8dr\\x96\\xcf*\\x13\\x03$M\\xdd+[5\\xa3\\x05B\\xdc\\x05-A\\xaa\\xf3H\\xc6?p5\\xde\\x9fGh+~\\x04:\\x8b\\xcf\\xdd\\x13\\xbe[\\xde\\x85\\xfc\\xbd\\xfb\\xae\\xf8\\xd0\\xb5\\x9a\\x8d\\x11\\x0e\\xc1\\x08\\x8e\\xb3f\\xc0\\xa6w\\x17\\xb2\\xfe\\xc2\\xe8\\xe7\\xf1\\xb9D\\x80\\xbc\\x83\"\\x94|\"~\\xa3\\xc3\\x1f\\xf1\\xfa\\xca!\\x89\\x8b.\\xee\\xe0.\\xa3\\x03\\xd1\\xd7-;\\xbc\\xaa\\xe1\\x94\\xf1\\x8d\\xbb\\xc0\\x0bL\\x81\\xfb\\x05\\xec\\xaemP\\xed\\xf5\\x88\\xc7\\x15.N6W\\xddQMC?\\xedN\\xafS\\xadE\\xc3\\x14\\n!\\xb1,\\x8b=\\xd0\\xc1=\\xaf@\\xb8L\\xd8\\x06U\\x90#|v\\xc9\\x7f\\x8a\\x8asd?$\\x82~\\xec\\x9a\\xa9\\xcb,\\xe8w\\x1a\\xfa\\xcfx\\xa1\\xd1H\\x8c\\x89\\xd8\\xebu\\xfdL\\xccY\\x1f\\x8aWc=\\xfa\\x99\\xae~\\x18Y\\xb1}\\x81\\\\ :\\xad\\xb2-2C\\xbb\\xeb/\\xc7\\x95\\xcc-:\\xeb\\x19\\x85\\xe9\\xd1\\x9b\\xd3\\xb0-\\xc8\\x17cf\\xd5\\xf2\\xfcAE\\xa8,:\\xda\\xd99\\xe0\\x0f\\x17\\x00}\\xa9y3m\\t\\xac\\xf1$\\xa6:~\\xfc\\x8d\\xe8J\\xbf\\xeb\\xd6>\\xd31f\\xb0\\xe7#_u>u\\xbb.\\xee\\xa6\\x0cznj\\x9e0\\x81\\x03\\xb9\\x90y\\xa5\\x96?[}W\\x13[\\x1f\\xe6\\xa8=2(\\xf1\\xd0\\xa0,\\xcc\\x8e\\xe4,5\\x08\\x1c U\\x16\\x98@_\\xf4Q\\xe1g\\xae\\x86w3\\xeau\\xb2\\xcb\\xed\\xa8\\x916\\xbc\\x9b&\\x9f\\xa78\\xe5\\x13\\x00:\\xe6\\xe1T\\xceOK\\xc2+sX\\xc1\\xc9\\x0f\\xbd*=|\\xf54\\xbf\\x16i\\xed\\xac\\x9b2\\xe0\\x1a\\x99H\\x19\\xbf\\xa5\\xd7.{\\xbb\\xfa\\x0f}v\\x1f\\x0452\\xb6\\xa9\\x9c`\\x95\\xf3\\xd6\\xc7\\x8fq\\xa4 \\x7f\\xa3\\x967\\x14\\xfa\\x98\\xed\\xcc\\x91\\x1f5\\xa5-v3\\x8b\\xdfe\\xa6\\xd3~?\\xcc\\xed-\\xb0D2\\xb5\\x12!\\xba\\xf5z*A$\\xc72\\x9d\\xa4g+S\\x8a\\xe4\\xfeF\\x9d\\xb5\\x0e}<\\xacD\\xdeo\\'%9k&\\x95\\xa7\\xaf\\xdcc\\x10\\rL]{!\\x90\\xae2y\\xfe\\xbf\\xf6\\xc1\\x8b\\x85\\xe6\\xa4<Pv\\x83\\x84\\x91\\xd3\\xa9\\x9c\\x0b^\\x05Av\\x85pp\\x0el\\xc9\\xe6\\xe9\\xfbLX\\xcb\\xcf\\xbeg\\xbd\\xb8\\xd7\\x85\\xbcNQ\\x89\\xbc\\xf73\\x1f\\x91\\xba\\xbc\\xd2Q\\x80\\xdcM\\xa9w\\xdd>\\xb2s\\xaf\\xe5,\\x7f\\xf9\\xcb]\\xe5Z\\'_sx\\xac=\\x9e\\x84w\\xb6r\\xc3\\x1ed9&\\td\\xcbBY\\xa2\\xb9\\xbf7\\x85\\x161b\\xae\\xdd\\xa6>F+O\\xf5\\xbaW\\x92\\xdb\\x8c\\xc9\\xbc\\xd7\\xc0c\\xee7\\xfb\\xe6d\\xcc]\\xbfd\\xce\\x01\\x858\\xd1\\x0f\\x85\\x04\\xa8\\xa4\\xf0\\r\\x02\\xb0\\x99\\xb5\\xf3\\xb3\\xb5\\xf4\\xf4\\xdc\\x17+\\xae\\x1f\\xca\\x87h\\x86\\xd4\\x07;\\x81K\\x1b\\xb0\\x17]d\\xa5zm\\xa0C%\\xe2=`]\\xa6a\\xad\\xb56\\x9e\\x19\\xceA/i\\xaasw\\x0e\\xc0\\xa6\\xcc/\\xd5k\\xfb\\xb2]\\xc1U]\\x89\\xc6\\xb5\\x886\\xdbdT2\\xea\\x89\\x89\\xb3lL\\xf66_\\xfa\\x01\\xcabb\\xceF\\xd1ut\\xaa\\xb7\\xdf2V\\x1a\\xbf\\xaa\\x87=\\x01\\xf9V=\\x0e\\x98S8`\\x05\\x80\\xd6V\\xddX\\x1f\\xb8*\\xb3\\xe2\\xecm\\xc0\\x1b\\x82A\\xdfe\\xe0\\xb3~\\xe3\\\\L\\x0c\\xa3\\xcdo!q\\xee/\\x0b\\xd29~*\\xe0\\x1a\\x97\\xfc\\xd1\\xe5OOf\\xcb\\x18>\\xe8\\xe1\\xaa\\x8cy\\xb3\\x15\\x03\\xe7\\xc0s\\x08G\\xb5u\\xb3\\xab,\\xd2\\xc5W\\xea\\x0c\\xde\\x110\\xf1\\xd7\\x86\\x82\\x832\\xbb\\xb2)\\xd0\\xc1\\xdd\\x8b\\xed8`^d\\x97*\\xed\\x8f\\xbb\\xc2\\xf9\\xa7\\x00\\xab\\x97\\x81\\x88\\x17\\x93\\xac\\xe8\\xcd\\xad\\xeaN\\t\\xd2@v\\x8b\\xa1\\x168\\x8e\\xfe\\xfb(\\x01M`s#\\xb1\\xfcJ!Qc98\\xb8\\xb8=i\\xe6d\\xf0\\x83\\xf1,\\x16l3TD\\xa8Yh\\xfbh\\xd6\\xd0\\x1e\\x12\\xb1e\\xa6\\x9c'\n"
     ]
    }
   ],
   "source": [
    "import os\n",
    "\n",
    "print(\"os.urandom(1024)\", os.urandom(1024))\n",
    "random.seed(os.urandom(1024))"
   ]
  },
  {
   "cell_type": "code",
   "execution_count": 21,
   "metadata": {},
   "outputs": [
    {
     "name": "stdout",
     "output_type": "stream",
     "text": [
      "0.8346749722740887\n",
      "0.48370455023697057\n",
      "0.5628136169769181\n"
     ]
    }
   ],
   "source": [
    "print(random.random())  # should give 0.7819713562511514\n",
    "print(random.random())  # should give 0.4669615948613485\n",
    "print(random.random())  # should give 0.6987920562874854"
   ]
  },
  {
   "cell_type": "code",
   "execution_count": 22,
   "metadata": {},
   "outputs": [
    {
     "name": "stdout",
     "output_type": "stream",
     "text": [
      "99\n"
     ]
    }
   ],
   "source": [
    "# Pick a random number between 1 and 100.\n",
    "print(random.randint(1, 100))  # 75\n",
    "# randint also includes the upper bound value\n"
   ]
  },
  {
   "cell_type": "code",
   "execution_count": 23,
   "metadata": {},
   "outputs": [
    {
     "name": "stdout",
     "output_type": "stream",
     "text": [
      "7.2036146084249255\n"
     ]
    }
   ],
   "source": [
    "# Pick a random floating point number between 1 and 10\n",
    "# random.uniform(a,b) => a <= N <= b\n",
    "print(random.uniform(1, 10))\n"
   ]
  },
  {
   "cell_type": "code",
   "execution_count": 24,
   "metadata": {},
   "outputs": [
    {
     "name": "stdout",
     "output_type": "stream",
     "text": [
      "0\n",
      "60\n",
      "20\n"
     ]
    }
   ],
   "source": [
    "# Generate a randomly selected element from range(start, stop, step)\n",
    "# random.randrange(start, stop[, step])\n",
    "for i in range(3):\n",
    "    print(random.randrange(0, 101, 5))"
   ]
  },
  {
   "cell_type": "code",
   "execution_count": 25,
   "metadata": {},
   "outputs": [
    {
     "name": "stdout",
     "output_type": "stream",
     "text": [
      "[6]\n",
      "[2, 3, 7, 10]\n"
     ]
    }
   ],
   "source": [
    "items = [1, 2, 3, 4, 5, 6, 7, 8, 9, 10]\n",
    "\n",
    "# Pick a random item from the list\n",
    "x = random.sample(items, 1)\n",
    "print(x)\n",
    "# Pick 4 random items from the list\n",
    "y = random.sample(items, 4)\n",
    "print(y)\n"
   ]
  },
  {
   "cell_type": "code",
   "execution_count": 26,
   "metadata": {},
   "outputs": [
    {
     "name": "stdout",
     "output_type": "stream",
     "text": [
      "Himalayas\n",
      "['Aplachein', 'Alphes', 'Ural']\n",
      "Vindhya\n"
     ]
    }
   ],
   "source": [
    "mountains = [\"Andes\", \"Himalayas\", \"Alphes\", \"Aplachein\", \"Ural\", \"Vindhya\"]\n",
    "\n",
    "# Pick a random item from the list\n",
    "x = random.sample(mountains, 1)\n",
    "print(x[0])\n",
    "\n",
    "# Pick 3 random items from the list\n",
    "y = random.sample(mountains, 3)\n",
    "print(y)\n",
    "\n",
    "# Pick a random item from the list\n",
    "x = random.choice(mountains)\n",
    "print(x)"
   ]
  },
  {
   "cell_type": "code",
   "execution_count": 27,
   "metadata": {},
   "outputs": [
    {
     "name": "stdout",
     "output_type": "stream",
     "text": [
      "after shuffle [1, 10, 2, 8, 3, 4, 5, 7, 6, 9]\n"
     ]
    }
   ],
   "source": [
    "\n",
    "# # To shuffle a list of elements\n",
    "# def shuffler(mylist):\n",
    "#     new_list = []\n",
    "#     while len(mylist):\n",
    "#         rand_pos = random.randint(0, len(mylist))\n",
    "#         new_list.append(mylist[rand_pos])\n",
    "#         del mylist[rand_pos]\n",
    "#     return new_list\n",
    "\n",
    "\n",
    "# print(shuffler([\"a\", \"b\", \"c\", \"d\", \"e\"]))\n",
    "\n",
    "numbers = [1, 2, 3, 4, 5, 6, 7, 8, 9, 10]\n",
    "random.shuffle(numbers)\n",
    "print(\"after shuffle\", numbers)"
   ]
  },
  {
   "cell_type": "markdown",
   "metadata": {},
   "source": [
    "### tossing_coin"
   ]
  },
  {
   "cell_type": "code",
   "execution_count": 28,
   "metadata": {},
   "outputs": [],
   "source": [
    "\n",
    "outcomes = {\n",
    "    \"heads\": 0,\n",
    "    \"tails\": 0,\n",
    "}\n",
    "sides = list(outcomes.keys())  # ['heads', 'tails']\n"
   ]
  },
  {
   "cell_type": "code",
   "execution_count": 29,
   "metadata": {},
   "outputs": [
    {
     "data": {
      "text/plain": [
       "'heads'"
      ]
     },
     "execution_count": 29,
     "metadata": {},
     "output_type": "execute_result"
    }
   ],
   "source": [
    "random.choice(sides)"
   ]
  },
  {
   "cell_type": "code",
   "execution_count": 30,
   "metadata": {},
   "outputs": [
    {
     "data": {
      "text/plain": [
       "['heads']"
      ]
     },
     "execution_count": 30,
     "metadata": {},
     "output_type": "execute_result"
    }
   ],
   "source": [
    "random.sample(sides, 1)"
   ]
  },
  {
   "cell_type": "code",
   "execution_count": 31,
   "metadata": {},
   "outputs": [
    {
     "name": "stdout",
     "output_type": "stream",
     "text": [
      "In 10000 tosses,\n",
      "\tHeads: 5078\n",
      "\tTails: 4922\n"
     ]
    }
   ],
   "source": [
    "for i in range(10000):\n",
    "    outcome = random.choice(sides)\n",
    "    outcomes[outcome] += 1\n",
    "\n",
    "print(\"In 10000 tosses,\")\n",
    "print(\"\\tHeads:\", outcomes[\"heads\"])\n",
    "print(\"\\tTails:\", outcomes[\"tails\"])"
   ]
  },
  {
   "cell_type": "markdown",
   "metadata": {},
   "source": [
    "### random_name_generator"
   ]
  },
  {
   "cell_type": "code",
   "execution_count": 32,
   "metadata": {},
   "outputs": [
    {
     "name": "stdout",
     "output_type": "stream",
     "text": [
      "Drew Brighton\n",
      "Tom Smith\n",
      "Tom Brighton\n",
      "Avery Jones\n",
      "Landon Jones\n"
     ]
    }
   ],
   "source": [
    "import random\n",
    "\n",
    "\n",
    "def random_name_generator(first, second, count):\n",
    "    _names = []\n",
    "    for _ in range(count):\n",
    "        fst_name = random.choice(first)\n",
    "        lst_name = random.choice(second)\n",
    "        name = f\"{fst_name} {lst_name}\"\n",
    "        _names.append(name)\n",
    "    return _names\n",
    "\n",
    "\n",
    "def random_name_generator(first, second, count):\n",
    "    _names = set()\n",
    "    while len(_names) < count:\n",
    "        fst_name = random.choice(first)\n",
    "        lst_name = random.choice(second)\n",
    "        name = f\"{fst_name} {lst_name}\"\n",
    "        _names.add(name)\n",
    "    return _names\n",
    "\n",
    "\n",
    "first_names = [\"Drew\", \"Mike\", \"Landon\", \"Jeremy\", \"Tyler\", \"Tom\", \"Avery\"]\n",
    "last_names = [\"Smith\", \"Jones\", \"Brighton\", \"Taylor\"]\n",
    "names = random_name_generator(first_names, last_names, 5)\n",
    "print(\"\\n\".join(names))\n",
    "\n",
    "\n",
    "# Assignment:\n",
    "# In runtime, take the gender name as input, and generate random name.\n",
    "# HINT: Take a dataset of female first names, and another with male first names\n",
    "# one dataset with last names"
   ]
  },
  {
   "cell_type": "code",
   "execution_count": 35,
   "metadata": {},
   "outputs": [
    {
     "name": "stdout",
     "output_type": "stream",
     "text": [
      "Lara Brighton\n",
      "Lara Taylor\n",
      "Jera Jones\n",
      "Jera Taylor\n",
      "Tara Jones\n"
     ]
    }
   ],
   "source": [
    "def random_name_generator(first_M, first_F, second, count):\n",
    "    _names = set()\n",
    "    while len(_names) < count:\n",
    "        gender = input(\"Give gender in this Format(F or M)\")\n",
    "        if gender.upper()=='M':\n",
    "            fst_name = random.choice(first_M)\n",
    "        else:\n",
    "            fst_name = random.choice(first_F)\n",
    "        lst_name = random.choice(second)\n",
    "        name = f\"{fst_name} {lst_name}\"\n",
    "        _names.add(name)\n",
    "    return _names\n",
    "\n",
    "\n",
    "male_first_names = [\"Drew\", \"Mike\", \"Landon\", \"Jeremy\", \"Tyler\", \"Tom\", \"Avery\"]\n",
    "female_first_names = [\"Dre\", \"Mika\", \"Lara\", \"Jera\", \"Tyla\", \"Tara\", \"Ava\"]\n",
    "last_names = [\"Smith\", \"Jones\", \"Brighton\", \"Taylor\"]\n",
    "names = random_name_generator(male_first_names, female_first_names, last_names, 5)\n",
    "print(\"\\n\".join(names))"
   ]
  }
 ],
 "metadata": {
  "kernelspec": {
   "display_name": "project_k",
   "language": "python",
   "name": "python3"
  },
  "language_info": {
   "codemirror_mode": {
    "name": "ipython",
    "version": 3
   },
   "file_extension": ".py",
   "mimetype": "text/x-python",
   "name": "python",
   "nbconvert_exporter": "python",
   "pygments_lexer": "ipython3",
   "version": "3.12.1"
  }
 },
 "nbformat": 4,
 "nbformat_minor": 2
}
